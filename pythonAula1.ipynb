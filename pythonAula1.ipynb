{
  "cells": [
    {
      "cell_type": "markdown",
      "metadata": {
        "id": "view-in-github",
        "colab_type": "text"
      },
      "source": [
        "<a href=\"https://colab.research.google.com/github/lipeffl/Python1/blob/main/pythonAula1.ipynb\" target=\"_parent\"><img src=\"https://colab.research.google.com/assets/colab-badge.svg\" alt=\"Open In Colab\"/></a>"
      ]
    },
    {
      "cell_type": "code",
      "execution_count": null,
      "metadata": {
        "colab": {
          "base_uri": "https://localhost:8080/"
        },
        "id": "gR1WsOCG1msV",
        "outputId": "96a0de60-ebec-4e03-8790-92a262966a03"
      },
      "outputs": [
        {
          "name": "stdout",
          "output_type": "stream",
          "text": [
            "Bem vindo ao Sistem Fuctura!\n",
            "olá, me chamo Felipe\n",
            "E você, qual o seu nome?\n",
            "oi, também me chamo Felipe\n",
            "Massa\n",
            "o que está achando do primeiro contato com python?\n",
            "É preciso praticar e repetir bastante para se familiarizar\n"
          ]
        }
      ],
      "source": [
        "print(\"Bem vindo ao Sistem Fuctura!\")\n",
        "print(\"olá, me chamo Felipe\")\n",
        "print(\"E você, qual o seu nome?\")\n",
        "print(\"oi, também me chamo Felipe\")\n",
        "print(\"Massa\")\n",
        "print(\"o que está achando do primeiro contato com python?\")\n",
        "print(\"É preciso praticar e repetir bastante para se familiarizar\")"
      ]
    },
    {
      "cell_type": "code",
      "execution_count": null,
      "metadata": {
        "colab": {
          "base_uri": "https://localhost:8080/"
        },
        "id": "1Fid7i3k2qqr",
        "outputId": "4d2dee68-2453-43b6-81b1-f1387c3060a4"
      },
      "outputs": [
        {
          "name": "stdout",
          "output_type": "stream",
          "text": [
            "Variaveis\n",
            "Felipe <class 'str'> 36 <class 'int'> 1.91 <class 'float'> True <class 'bool'>\n"
          ]
        }
      ],
      "source": [
        "print(\"Variaveis\")\n",
        "nome = \"Felipe\"\n",
        "idade = 36\n",
        "altura = 1.91\n",
        "maior = True\n",
        "print(nome, type(nome), idade, type(idade), altura, type(altura), maior, type(maior))"
      ]
    },
    {
      "cell_type": "code",
      "execution_count": null,
      "metadata": {
        "colab": {
          "base_uri": "https://localhost:8080/"
        },
        "id": "jZrN2-M7eZoJ",
        "outputId": "3350d51e-68b2-44d4-ec27-4b6499b16252"
      },
      "outputs": [
        {
          "name": "stdout",
          "output_type": "stream",
          "text": [
            "salario base: 2000\n",
            "gratificação: 50\n",
            "O valor do salario é R$  2050.0\n"
          ]
        }
      ],
      "source": [
        "#entrada de dados\n",
        "salarioBase = float(input(\"salario base: \"))\n",
        "gratificação = float(input(\"gratificação: \"))\n",
        "\n",
        "#processamento\n",
        "salarioBruto = salarioBase + gratificação\n",
        "#saida\n",
        "print(\"O valor do salario é R$ \", salarioBruto)\n",
        "\n"
      ]
    },
    {
      "cell_type": "code",
      "execution_count": null,
      "metadata": {
        "colab": {
          "base_uri": "https://localhost:8080/"
        },
        "id": "L4uZ-eN1hTDH",
        "outputId": "e061083c-d007-40cb-bd4e-32cc03f87572"
      },
      "outputs": [
        {
          "name": "stdout",
          "output_type": "stream",
          "text": [
            "Qual o nome do hotel? Ibis\n",
            "Quantas estrelas? 3\n",
            "Qual o nome da cidade? Recife\n"
          ]
        }
      ],
      "source": [
        "nomeDoHotel = str(input(\"Qual o nome do hotel? \"))\n",
        "qualidade = int(input(\"Quantas estrelas? \"))\n",
        "cidade = str(input(\"Qual o nome da cidade? \"))"
      ]
    },
    {
      "cell_type": "code",
      "execution_count": null,
      "metadata": {
        "colab": {
          "base_uri": "https://localhost:8080/"
        },
        "id": "M7sD7YnTi6EN",
        "outputId": "92c0058e-cc81-40ba-8687-58aaa5638473"
      },
      "outputs": [
        {
          "name": "stdout",
          "output_type": "stream",
          "text": [
            "False\n",
            "True\n",
            "False\n",
            "True\n",
            "False\n",
            "True\n"
          ]
        }
      ],
      "source": [
        "valor1 = 10\n",
        "valor2 = 20\n",
        "\n",
        "print(valor1 == valor2)\n",
        "print(valor1 != valor2)\n",
        "print(valor1 > valor2)\n",
        "print(valor1 < valor2)\n",
        "print(valor1 >= valor2)\n",
        "print(valor1 <= valor2)\n"
      ]
    },
    {
      "cell_type": "markdown",
      "metadata": {
        "id": "07E-BOb6s5Ig"
      },
      "source": [
        "[1] Exercício\n",
        "Você\n",
        "trabalha como programador ( de uma empresa\n",
        "especializada em serviços hoteleiros Em um determinado\n",
        "projeto, seu líder de equipe te pediu para criar um programa\n",
        "para gerar um cartão de visitas textual do hotel, conforme\n",
        "seus dados específicos\n",
        "O programa precisa ser genérico, ou seja, ele precisa ler o nome, a quantidade de\n",
        "estrelas e a cidade em que fica o hotel e gerar o cartão conforme modelos do slide\n",
        "a anterior . Algumas restrições foram estabeecidas:\n",
        "\n",
        "●\n",
        "Todos os dados devem ser lidos da entrada padrão (função input());\n",
        "\n",
        "●\n",
        "O nome do hotel e sua cidade devem ter exatamente 6 e 8 caracteres,\n",
        "respectivamente. Use espaços ou outro caractere quando o nome ou cidade\n",
        "tiverem tamanhos menores que os especificados ou abrevie seu nome caso\n",
        "sejam maiores;\n",
        "\n",
        "●\n",
        "A quantidade de estrelas é um valor entre 1 e 5;\n",
        "\n",
        "●\n",
        "A largura do cartão é de exatamente 20 caracteres;\n",
        "\n",
        "●\n",
        "O programa deve ser feitos em Python."
      ]
    },
    {
      "cell_type": "code",
      "execution_count": null,
      "metadata": {
        "colab": {
          "base_uri": "https://localhost:8080/"
        },
        "id": "5PSXX-8PYT0C",
        "outputId": "dc553594-8be1-47ee-c5c2-36d4655dbd27"
      },
      "outputs": [
        {
          "name": "stdout",
          "output_type": "stream",
          "text": [
            "hotel: ibis\n",
            "Quantas estrelas(entre 1 e 5): 4\n",
            "Cidade do hotel (com 8 letras): Juazeiro\n"
          ]
        }
      ],
      "source": [
        "nomeDoHotel = str(input(\"hotel: \"))\n",
        "estrelas = int(input(\"Quantas estrelas(entre 1 e 5): \"))\n",
        "cidade = str(input(\"Cidade do hotel (com 8 letras): \"))\n"
      ]
    },
    {
      "cell_type": "code",
      "execution_count": null,
      "metadata": {
        "colab": {
          "base_uri": "https://localhost:8080/"
        },
        "id": "kjcFMshHefx-",
        "outputId": "721ffec5-8747-443c-e779-803c172f8929"
      },
      "outputs": [
        {
          "name": "stdout",
          "output_type": "stream",
          "text": [
            "********************\n",
            "****** ibis ********\n",
            "*** 4 estrela(s)****\n",
            "***Em  Juazeiro ****\n",
            "********************\n"
          ]
        }
      ],
      "source": [
        "print(\"*\"*20)\n",
        "print(\"******\", nomeDoHotel, \"********\")\n",
        "print(\"***\", estrelas, \"estrela(s)****\")\n",
        "print(\"***Em \", cidade,\"****\")\n",
        "print(\"*\"*20)"
      ]
    },
    {
      "cell_type": "markdown",
      "metadata": {
        "id": "6RYiOuOvkOGI"
      },
      "source": [
        "![tabelaAndeorOperadoreslogicos.PNG](data:image/png;base64,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)\n",
        "\n"
      ]
    },
    {
      "cell_type": "code",
      "execution_count": null,
      "metadata": {
        "colab": {
          "base_uri": "https://localhost:8080/"
        },
        "id": "rPyCviNQlXa3",
        "outputId": "77812b55-f8a5-4d43-d5a5-736f547a0aad"
      },
      "outputs": [
        {
          "name": "stdout",
          "output_type": "stream",
          "text": [
            "False\n",
            "True\n",
            "True\n",
            "False\n"
          ]
        }
      ],
      "source": [
        "print(10>18 and 3>2)\n",
        "print(20>18 or 3>4)\n",
        "print(1>2 and 2>3 or 1>0)\n",
        "print(1>2) and (2>3 or 1>0)"
      ]
    },
    {
      "cell_type": "code",
      "execution_count": null,
      "metadata": {
        "colab": {
          "base_uri": "https://localhost:8080/"
        },
        "id": "qxmd1S2VnrpX",
        "outputId": "cfd2c633-8e29-4a15-fb51-ae0bcd342150"
      },
      "outputs": [
        {
          "name": "stdout",
          "output_type": "stream",
          "text": [
            "False\n"
          ]
        }
      ],
      "source": [
        "valor1 = 10\n",
        "print(valor1>0 and valor1 <10)"
      ]
    },
    {
      "cell_type": "code",
      "execution_count": null,
      "metadata": {
        "colab": {
          "base_uri": "https://localhost:8080/"
        },
        "id": "HmBnvV34oZCp",
        "outputId": "cabee2f2-411e-4319-efa2-cc154ced59e4"
      },
      "outputs": [
        {
          "name": "stdout",
          "output_type": "stream",
          "text": [
            "True\n"
          ]
        }
      ],
      "source": [
        "valor1 = 10\n",
        "print(valor1>0 or valor1 <10)"
      ]
    },
    {
      "cell_type": "code",
      "execution_count": null,
      "metadata": {
        "colab": {
          "base_uri": "https://localhost:8080/"
        },
        "id": "C7sf946PoBtz",
        "outputId": "08d6a309-cac2-45aa-8cf2-052a5f77d994"
      },
      "outputs": [
        {
          "name": "stdout",
          "output_type": "stream",
          "text": [
            "True\n"
          ]
        }
      ],
      "source": [
        "valor2 = 20\n",
        "print(valor2>0 and valor2 <=20)"
      ]
    },
    {
      "cell_type": "code",
      "execution_count": null,
      "metadata": {
        "colab": {
          "base_uri": "https://localhost:8080/"
        },
        "id": "kzB3OhSQmYT4",
        "outputId": "888902c5-d375-4a86-cd3e-ce74833cf411"
      },
      "outputs": [
        {
          "name": "stdout",
          "output_type": "stream",
          "text": [
            "False\n",
            "True\n"
          ]
        }
      ],
      "source": [
        "numero = 10\n",
        "print(numero>0 and numero<10)\n",
        "print(numero>0 or numero<10)"
      ]
    },
    {
      "cell_type": "markdown",
      "metadata": {
        "id": "7u3Ghwu1ug-O"
      },
      "source": [
        "Desvio Condicional\n",
        "\n",
        "if(se)\n",
        "\n",
        "else(se não...)\n",
        "\n",
        "if... else.... else(else não pode duas vezes, então se coloca elif). \n",
        "\n",
        "If...elif...else"
      ]
    },
    {
      "cell_type": "markdown",
      "metadata": {
        "id": "QAvgjAaDp_FJ"
      },
      "source": [
        "Cenário\n",
        "1 Há 2 códigos de desconto válidos, que são os seguintes\n",
        "FUCTURA 1 e FUCTURA 2 Se o usuário utilizar um desses dois cupons\n",
        "então aplique um desconto de 15 no valor final da compra\n",
        "2\n",
        "ações possíveis\n",
        "\n",
        "1\n",
        "aplicar o desconto\n",
        "\n",
        "2\n",
        "não fazer nada"
      ]
    },
    {
      "cell_type": "code",
      "execution_count": null,
      "metadata": {
        "colab": {
          "base_uri": "https://localhost:8080/"
        },
        "id": "syhLNbVJqunR",
        "outputId": "5f8ee1c4-3205-4bf4-fc5a-5ea758dfeb1a"
      },
      "outputs": [
        {
          "name": "stdout",
          "output_type": "stream",
          "text": [
            "digite o cupom: FUCTURA2\n",
            "você ganhou 15% de desconto!\n"
          ]
        }
      ],
      "source": [
        "#entrada\n",
        "cupom = str(input(\"digite o cupom: \"))\n",
        "\n",
        "#processamento\n",
        "if(cupom==\"FUCTURA1\" or cupom==\"FUCTURA2\"):\n",
        "  print(\"você ganhou 15% de desconto!\") #saida de dados "
      ]
    },
    {
      "cell_type": "markdown",
      "metadata": {
        "id": "XYWjNdE1ruP-"
      },
      "source": [
        "Cenário\n",
        "2 \n",
        "\n",
        "Há 2 códigos válidos de desconto válidos, que são os seguintes\n",
        "FUCTURA 1 e FUCTURA 2 Se o usuário utilizar um desses dois cupons\n",
        "então aplique um desconto de 15 no valor final da compra Senão\n",
        "aplique apenas 10 de desconto\n",
        "2\n",
        "ações possíveis\n",
        "\n",
        "1\n",
        "aplicar 15\n",
        "\n",
        "2\n",
        "aplicar 10\n",
        "\n",
        "obs: escrever .upper() no final para não diferenciar maiscula de minuscula"
      ]
    },
    {
      "cell_type": "code",
      "execution_count": null,
      "metadata": {
        "colab": {
          "base_uri": "https://localhost:8080/"
        },
        "id": "pMvJT3dquly2",
        "outputId": "c3922025-e197-475c-a5fe-4c01fbe60892"
      },
      "outputs": [
        {
          "name": "stdout",
          "output_type": "stream",
          "text": [
            "digite o cupom: fuctura3\n",
            "Você ganhou 10% de desconto!\n"
          ]
        }
      ],
      "source": [
        "#entrada\n",
        "cupom = str(input(\"digite o cupom: \")).upper()\n",
        "\n",
        "#processamento\n",
        "if(cupom==\"FUCTURA1\" or cupom==\"FUCTURA2\"):\n",
        "  print(\"você ganhou 15% de desconto!\") #saida de dados\n",
        "else:\n",
        "  print(\"Você ganhou 10% de desconto!\")"
      ]
    },
    {
      "cell_type": "markdown",
      "metadata": {
        "id": "2rse5ATI2AvH"
      },
      "source": [
        "Cenário\n",
        "3 Há 2 códigos de desconto válidos, que são os seguintes Se o usuário\n",
        "utilizar o código FUCTURA 1 então aplique um desconto de 15 no valor final da\n",
        "compra Senão se utilizar o código FUCTURA 2 então aplique apenas 10 de\n",
        "desconto Senão aplique um desconto padrão de 5\n",
        "\n",
        "3\n",
        "ações possíveis\n",
        "\n",
        "1\n",
        "aplicar 15%\n",
        "\n",
        "2\n",
        "aplicar 10%\n",
        "\n",
        "3\n",
        "aplicar 5%"
      ]
    },
    {
      "cell_type": "code",
      "execution_count": null,
      "metadata": {
        "colab": {
          "base_uri": "https://localhost:8080/"
        },
        "id": "AVrFkyBh0Va-",
        "outputId": "c3f5d96d-94ce-4e72-b3a5-994bf5154646"
      },
      "outputs": [
        {
          "name": "stdout",
          "output_type": "stream",
          "text": [
            "digite o cupom: fuctura3\n",
            "você ganhou 5% de desconto!\n"
          ]
        }
      ],
      "source": [
        "#entrada\n",
        "cupom = str(input(\"digite o cupom: \")).upper()\n",
        "\n",
        "#processamento\n",
        "if(cupom==\"FUCTURA1\"):\n",
        "  print(\"você ganhou 15% de desconto!\") #saida de dados\n",
        "elif(cupom==\"FUCTURA2\"):\n",
        "  print(\"Você ganhou 10% de desconto!\")\n",
        "else:\n",
        "    print(\"você ganhou 5% de desconto!\")"
      ]
    },
    {
      "cell_type": "markdown",
      "metadata": {
        "id": "YB6qR5rEshnb"
      },
      "source": [
        "EXERCICIO\n",
        "\n",
        "Um\n",
        "cliente irá solicitar um empréstimo ao\n",
        "banco. \n",
        "Se o valor do empréstimo for menor\n",
        "ou igual a 50% do seu salário, então o\n",
        "empréstimo será aprovado. Senão, se o\n",
        "valor do empréstimo for menor ou igual a\n",
        "75% do salário a situação ficará em análise.\n",
        "\n",
        "Senão informe ao cliente que o\n",
        "empréstimo não foi aprovado .\n",
        "\n",
        "(ações 1 aprovar o empréstimo, 2 situação em análise,\n",
        "3 não aprovar o empréstimo)."
      ]
    },
    {
      "cell_type": "markdown",
      "metadata": {
        "id": "t3SJHxdU3PW_"
      },
      "source": [
        "Exercicio(slide)\n",
        "descrever....\n",
        "**Entrada**\n",
        "valorDoEmprestimo\n",
        "valorDoSalario\n",
        "**processamento**\n",
        "valor do emprestimo (ve) valor do salario(vs)\n",
        "ve<= 0.5*vs =aprovado(saida de dados)\n",
        "ve<= 0.75*vs=analise(saida de dados)\n",
        "cc(caso contrario)-reporvado(saida de dados)\n",
        "saida de dados"
      ]
    },
    {
      "cell_type": "code",
      "execution_count": null,
      "metadata": {
        "colab": {
          "base_uri": "https://localhost:8080/"
        },
        "id": "Rb7DFP7642ra",
        "outputId": "e6e7d9d3-2ad2-49e2-cb13-f067712b1813"
      },
      "outputs": [
        {
          "name": "stdout",
          "output_type": "stream",
          "text": [
            "valor Do emprestimo 800\n",
            "Valor do salario 1000\n",
            "reprovado\n"
          ]
        }
      ],
      "source": [
        "#entrada\n",
        "ve= int (input(\"valor Do emprestimo \")) \n",
        "vs= int(input(\"Valor do salario \"))\n",
        "\n",
        "#processamento\n",
        "if(ve<=0.5*vs):\n",
        "  print(\"aprovado\")#saida de dados\n",
        "elif(ve<=0.75*vs):\n",
        "  print(\"analise\")\n",
        "else:\n",
        "  print(\"reprovado\")\n",
        "  "
      ]
    },
    {
      "cell_type": "code",
      "execution_count": null,
      "metadata": {
        "colab": {
          "base_uri": "https://localhost:8080/"
        },
        "id": "JdO0DXX_HR0Q",
        "outputId": "fd8e114f-5622-40fc-8228-f16f24ef9784"
      },
      "outputs": [
        {
          "name": "stdout",
          "output_type": "stream",
          "text": [
            "segundo nivel\n",
            "mensagem terceiro nivel\n"
          ]
        }
      ],
      "source": [
        "#identação\n",
        "if(1 == 1): #primeiro nivel\n",
        " print(\"segundo nivel\") #segundo nivel\n",
        " if((1 == 2) == False):\n",
        "    print(\"mensagem terceiro nivel\") #terceiro nivel"
      ]
    },
    {
      "cell_type": "code",
      "execution_count": null,
      "metadata": {
        "colab": {
          "base_uri": "https://localhost:8080/"
        },
        "id": "wsqEnZN2JSqY",
        "outputId": "580b4cbf-f208-4d8b-bce4-0d77ed17acca"
      },
      "outputs": [
        {
          "name": "stdout",
          "output_type": "stream",
          "text": [
            "a soma é:  128 \n",
            "A subtração é:  122\n",
            "A multiplicação é: 375\n",
            "A divisão é: 41.666666666666664\n"
          ]
        }
      ],
      "source": [
        "#operadores aritimeticos\n",
        "#entrada\n",
        "valor1, valor2 = 125, 3\n",
        "#processamento\n",
        "soma = valor1 + valor2\n",
        "subtracão = valor1 - valor2\n",
        "mult = valor1 * valor2\n",
        "divisão = valor1 / valor2\n",
        "#saida\n",
        "print(\"a soma é: \", soma, \"\\nA subtração é: \", subtracão)\n",
        "print(\"A multiplicação é: \" + str(mult) + \"\\nA divisão é: \" +str(divisão))"
      ]
    },
    {
      "cell_type": "markdown",
      "metadata": {
        "id": "saHTQXpmUJhf"
      },
      "source": []
    },
    {
      "cell_type": "markdown",
      "metadata": {
        "id": "spER34yjRCr_"
      },
      "source": [
        "1)Num determinado Estado, para transferências de veículos, o DETRAN cobra uma taxa de 1% para carros\n",
        "fabricados antes de 1990 e uma taxa de 1.5% para os fabricados de 1990 em diante, a taxa esta incidindo sobre o\n",
        "valor de tabela do carro. Faça uma algoritmo lê o ano e o preço do carro e a seguir calcula e imprime o imposto a ser pago.\n",
        "\n",
        "\n",
        "\n"
      ]
    },
    {
      "cell_type": "code",
      "execution_count": null,
      "metadata": {
        "colab": {
          "base_uri": "https://localhost:8080/"
        },
        "id": "UHPbD43eTIx-",
        "outputId": "de8b34f4-4d17-48f7-894f-1b65d4f4af93"
      },
      "outputs": [
        {
          "name": "stdout",
          "output_type": "stream",
          "text": [
            "Qual o ano do carro? 1990\n",
            "Qual o preço do preco do carro? 20000\n",
            "O imposto sera de:  300.0\n"
          ]
        }
      ],
      "source": [
        "#entrada\n",
        "ano = int(input(\"Qual o ano do carro? \")) \n",
        "preco = float(input(\"Qual o preço do preco do carro? \"))\n",
        "\n",
        "#processamento\n",
        "if(ano<1990):\n",
        "  print(\"O imposto sera de: \", preco*0.01) #saida de dados\n",
        "else:\n",
        "    print(\"O imposto sera de: \", preco*0.015)"
      ]
    },
    {
      "cell_type": "code",
      "execution_count": null,
      "metadata": {
        "colab": {
          "base_uri": "https://localhost:8080/"
        },
        "id": "jE1gkQiXYh4B",
        "outputId": "a21b6ce7-446d-489c-8ff3-99de03b60db1"
      },
      "outputs": [
        {
          "name": "stdout",
          "output_type": "stream",
          "text": [
            "0.015\n"
          ]
        }
      ],
      "source": [
        "print(1.5/100)"
      ]
    },
    {
      "cell_type": "markdown",
      "metadata": {
        "id": "FbqNmGXPcOvH"
      },
      "source": [
        "2)Uma empresa concederá um aumento de salário aos seus funcionários, variável de acordo com o cargo,\n",
        "conforme a tabela abaixo. Faça um algoritmo que leia o salário e o cargo de um funcionário e calcule o novo salário. Se o cargo do funcionário não estiver na tabela, ele deverá, então, receber 40% de aumento. Mostre o salário antigo, o novo salário e a diferença.\n",
        "\n",
        "\n",
        "![imagem_2022-09-15_154119267.png](data:image/png;base64,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)\n",
        "\n"
      ]
    },
    {
      "cell_type": "code",
      "execution_count": null,
      "metadata": {
        "colab": {
          "base_uri": "https://localhost:8080/"
        },
        "id": "dDOVvhsJrREv",
        "outputId": "0741c815-2321-4c34-c371-2edc9966abcb"
      },
      "outputs": [
        {
          "output_type": "stream",
          "name": "stdout",
          "text": [
            "Qual o seu cargo? Gerente\n",
            "Qual o seu salário? 2000\n",
            "Seu novo salário será de R$  2200.0\n"
          ]
        }
      ],
      "source": [
        "#entrada\n",
        "\n",
        "cargo = str(input(\"Qual o seu cargo? \")).upper()\n",
        "sal = float(input(\"Qual o seu salário? \"))\n",
        "\n",
        "#processamento\n",
        "if(cargo==\"GERENTE\"):\n",
        "  print(\"Seu novo salário será de R$ \", sal*0.1+sal) #saida de dados\n",
        "elif(cargo==\"ENGENHEIRO\"):\n",
        "  print(\"Seu novo salário será de R$ \", sal*0.2+sal) \n",
        "elif(cargo==\"TÉCNICO\"):\n",
        "  print(\"Seu novo salário será de R$ \", sal*0.3+sal)\n",
        "else:\n",
        "  print(\"Seu novo salário será de R$ \", sal*0.4+sal)     \n",
        "   "
      ]
    },
    {
      "cell_type": "markdown",
      "metadata": {
        "id": "4tsmLRoV052v"
      },
      "source": [
        "3)Um banco concederá um crédito especial aos seus clientes, variável com o saldo médio no último ano. Faça um\n",
        "algoritmo que leia o saldo médio de um cliente e calcule o valor do crédito de acordo com a tabela abaixo. Mostre\n",
        "uma mensagem informando o saldo médio e o valor do crédito.\n",
        "\n",
        "![imagem_2022-09-15_220616684.png](data:image/png;base64,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)"
      ]
    },
    {
      "cell_type": "code",
      "execution_count": null,
      "metadata": {
        "colab": {
          "base_uri": "https://localhost:8080/"
        },
        "id": "vcRhGP7f1eN_",
        "outputId": "48596422-fa7a-4482-99e2-804927fd7588"
      },
      "outputs": [
        {
          "name": "stdout",
          "output_type": "stream",
          "text": [
            "Qual foi seu saldo médio no último ano? 602\n",
            "Seu saldo médio é R$ 602.0  O valor do c´redito é R$ 240.8\n"
          ]
        }
      ],
      "source": [
        "#entrada\n",
        "sm = float(input(\"Qual foi seu saldo médio no último ano? \"))\n",
        "\n",
        "#processamento\n",
        "if(sm<=200): #saida\n",
        " print(\"Seu saldo medio é R$\", sm, \". Você não tem direito a crédito\")\n",
        "elif(sm>=201 and sm<=400):\n",
        "  print(\"Seu saldo médio é R$\", sm, \". O valor do crédito R$\" , sm*0.2)\n",
        "elif(sm>=401 and sm<=601):\n",
        "    print(\"Seu saldo médio é R$\", sm, \". O valor do crédito é R$\", sm*0.3)\n",
        "else:\n",
        "  print(\"Seu saldo médio é R$\", sm,\" O valor do crédito é R$\", sm*0.4)     "
      ]
    },
    {
      "cell_type": "markdown",
      "metadata": {
        "id": "8StqJ8Sk7IKB"
      },
      "source": [
        "4) Faça um algoritmo que leia um número e mostre uma mensagem indicando se este número é par ou ímpar e se é positivo ou negativo."
      ]
    },
    {
      "cell_type": "code",
      "execution_count": null,
      "metadata": {
        "id": "Mgs0ygFf8WuH",
        "colab": {
          "base_uri": "https://localhost:8080/"
        },
        "outputId": "45a3345c-2685-4705-e08d-304b14e66d29"
      },
      "outputs": [
        {
          "output_type": "stream",
          "name": "stdout",
          "text": [
            "Digite um número: -3\n",
            "-3 é ímpar e negativo\n"
          ]
        }
      ],
      "source": [
        "#entrada de dados\n",
        "n = int(input(\"Digite um número: \"))\n",
        "#processamento\n",
        "if((n%2==0) and (n>0)):\n",
        "  print(n, \"é par e positivo\") #saida de dados\n",
        "elif((n%2==0) and (n<0)):\n",
        "  print(n, \"é par e negativo\")\n",
        "elif((n%2==1) and (n>0)):\n",
        "  print(n, \"é ímpar e positivo\")  \n",
        "else:\n",
        "  print(n, \"é ímpar e negativo\")\n",
        "\n"
      ]
    },
    {
      "cell_type": "markdown",
      "metadata": {
        "id": "jUxd9goa9LjJ"
      },
      "source": [
        "5) Elabore um algoritmo que leia 5 valores inteiros em cinco variáveis diferentes e apresente na tela o maior e o menor deles. "
      ]
    },
    {
      "cell_type": "code",
      "source": [
        "#entrada\n",
        "n1 = int(input(\"Diga um número: \"))\n",
        "n2 = int(input(\"Diga outro número: \")) \n",
        "n3 = int(input(\"Diga outro número: \"))\n",
        "n4 = int(input(\"Mais um número: \"))\n",
        "n5 = int(input(\"Outro número: \"))\n",
        "#processamento\n",
        "maior = n1\n",
        "menor = n2\n",
        "if(n2 > maior):\n",
        "  maior = n2 \n",
        "if(n3 > maior):\n",
        "  maior = n3\n",
        "if(n4 > maior):\n",
        "  maior = n4\n",
        "if(n5 > maior):   \n",
        "  maior = n5\n",
        "if(n1 < menor):\n",
        "  menor = n1\n",
        "if(n3 < menor):\n",
        "  menor = n3  \n",
        "if(n4 < menor):\n",
        "  menor = n4  \n",
        "if(n5 < menor):\n",
        "  menor = n5  \n",
        "\n",
        "print(\"O maior é \",maior, \"e o menor é\", menor) #saida de dados  "
      ],
      "metadata": {
        "colab": {
          "base_uri": "https://localhost:8080/"
        },
        "id": "pOtIKNG92hPM",
        "outputId": "a0c25e4d-6793-41a5-be5f-cef7189b0ff7"
      },
      "execution_count": null,
      "outputs": [
        {
          "output_type": "stream",
          "name": "stdout",
          "text": [
            "Diga um número: 9\n",
            "Diga outro número: 4\n",
            "Diga outro número: 3\n",
            "Mais um número: 2\n",
            "Outro número: 1\n",
            "O maior é  9 e o menor é 1\n"
          ]
        }
      ]
    },
    {
      "cell_type": "code",
      "source": [
        "primeiro = int(input('Primeiro numero: '))\n",
        "segundo  = int(input('Segundo numero : '))\n",
        "terceiro = int(input('Terceiro numero: '))\n",
        "\n",
        "# Achando o maior número\n",
        "maior = primeiro\n",
        "\n",
        "if (segundo > maior):\n",
        "    maior = segundo\n",
        "if (terceiro > maior):\n",
        "    maior = terceiro\n",
        "print('Maior: ',maior)"
      ],
      "metadata": {
        "colab": {
          "base_uri": "https://localhost:8080/"
        },
        "id": "JQYbDkRDI1un",
        "outputId": "cdc9f928-b02c-49a4-eefa-f20f4b5283ce"
      },
      "execution_count": null,
      "outputs": [
        {
          "output_type": "stream",
          "name": "stdout",
          "text": [
            "Primeiro numero: 3\n",
            "Segundo numero : 2\n",
            "Terceiro numero: 1\n",
            "Maior:  3\n"
          ]
        }
      ]
    },
    {
      "cell_type": "markdown",
      "metadata": {
        "id": "nwrOVaHY9edB"
      },
      "source": [
        "6) A escola “Fuctura Tecnologia” faz o pagamento de seus professores por hora/aula. Faça um algoritmo que calcule e exiba o salário de um professor. Sabe - se que o valor da hora/aula segue abaixo:\n",
        "\n",
        "Professor Nível 1 - Monitor: R$12,00 por hora/aula\n",
        "\n",
        "Professor Nível 2 - Instrutor: R$27,00 por hora/aula\n",
        "\n",
        "Professor Nível 3 - Magistério: R$ 35,00 por hora/aula\n"
      ]
    },
    {
      "cell_type": "code",
      "execution_count": null,
      "metadata": {
        "colab": {
          "base_uri": "https://localhost:8080/"
        },
        "id": "zmmEKk2a9_1r",
        "outputId": "e954b758-8d94-41c7-bf77-c0ee7ec6e744"
      },
      "outputs": [
        {
          "output_type": "stream",
          "name": "stdout",
          "text": [
            "Quantas horas você trabalha? 16\n",
            "Qual o valor de sua hora? 27\n",
            "Instrutor, seu salário é de R$  432.0\n"
          ]
        }
      ],
      "source": [
        "#entrada\n",
        "ha = float(input(\"Quantas horas você trabalha? \"))\n",
        "vh = float(input(\"Qual o valor de sua hora? \"))\n",
        "#processamento\n",
        "if(vh==12.00): #saida\n",
        "  print(\"Monitor, seu salário é de R$ \", ha*vh)\n",
        "elif(vh==27.00):\n",
        "  print(\"Instrutor, seu salário é de R$ \", ha*vh)\n",
        "elif(vh==35.00):\n",
        "  print(\"Professor, seu salario é de R$ \", ha*vh)  "
      ]
    },
    {
      "cell_type": "markdown",
      "metadata": {
        "id": "8Ngm2DjGDEo-"
      },
      "source": [
        "o exercicio anterior estava sendo terminado com else e não funcionava, pode terminar com elif e sem o else. O Else que em outros momentos não tinha nada escrito. - ouseja: se não... se tudo qeu foi mencionado não for, então qualquer coisa valae para esse valor. Se não foi 1, 2 ou 3... else... qulquer um."
      ]
    },
    {
      "cell_type": "code",
      "source": [
        "n = int(input(\"Qual o numero? \"))\n",
        "if(n%2==0):\n",
        "  print(\"Esse número é par\")\n",
        "else:\n",
        "  print(\"Esse número é ímpar\")  "
      ],
      "metadata": {
        "colab": {
          "base_uri": "https://localhost:8080/"
        },
        "id": "qxKw_FsBLFvu",
        "outputId": "544bfe6b-e04a-4169-ccf3-a1dced0973e0"
      },
      "execution_count": null,
      "outputs": [
        {
          "output_type": "stream",
          "name": "stdout",
          "text": [
            "Qual o numero? 14\n",
            "Esse número é par\n"
          ]
        }
      ]
    },
    {
      "cell_type": "markdown",
      "source": [
        "numero par e número ímpar:\n",
        "\n",
        "Cria uma variavel chamada núemro ou n (por exemplo) e pede o resto % de 2. n%2 ou numero%2\n",
        "Se  o resultado for 0, cai no IF dizendo que é par,se não for, cai no ELSE dizendo que é ímpar."
      ],
      "metadata": {
        "id": "kIDr3C-GMTjp"
      }
    },
    {
      "cell_type": "markdown",
      "source": [
        "Opção 2:\n",
        "como 1 é true e 0 false, basta perguntar o resto de divisão sem colocar o if como sendo == a algo, porém o ímpar vai para o if e o par para o else. Exeemplo abaixo."
      ],
      "metadata": {
        "id": "7YtJbANwNYSz"
      }
    },
    {
      "cell_type": "code",
      "source": [
        "n = int(input(\"Qual o seu número? \"))\n",
        "\n",
        "if(n%2):\n",
        "  print(\"ímpar\")\n",
        "else:\n",
        "  print(\"par\")  "
      ],
      "metadata": {
        "colab": {
          "base_uri": "https://localhost:8080/"
        },
        "id": "1i6nS-rfNpAE",
        "outputId": "d5eee6fa-faee-4a98-c25c-65767a345e63"
      },
      "execution_count": null,
      "outputs": [
        {
          "output_type": "stream",
          "name": "stdout",
          "text": [
            "Qual o seu número? 5\n",
            "ímpar\n"
          ]
        }
      ]
    },
    {
      "cell_type": "markdown",
      "source": [
        "Positivo ou negativo abaixo."
      ],
      "metadata": {
        "id": "IDccqfvcQbH5"
      }
    },
    {
      "cell_type": "code",
      "source": [
        "n = int(input(\"Digite um número: \"))\n",
        "if(n<=0):\n",
        "  print(\"Negativo\")\n",
        "else:\n",
        "  print(\"Positivo\") "
      ],
      "metadata": {
        "id": "Gk9VnXMEP6PY",
        "colab": {
          "base_uri": "https://localhost:8080/"
        },
        "outputId": "e46ff468-e837-48e5-dbe2-adfbec46bf5f"
      },
      "execution_count": null,
      "outputs": [
        {
          "output_type": "stream",
          "name": "stdout",
          "text": [
            "Digite um número: 5\n",
            "Positivo\n"
          ]
        }
      ]
    }
  ],
  "metadata": {
    "colab": {
      "provenance": [],
      "authorship_tag": "ABX9TyPLb2e6mkcXvAGuvEDfgqf/",
      "include_colab_link": true
    },
    "kernelspec": {
      "display_name": "Python 3",
      "name": "python3"
    },
    "language_info": {
      "name": "python"
    }
  },
  "nbformat": 4,
  "nbformat_minor": 0
}